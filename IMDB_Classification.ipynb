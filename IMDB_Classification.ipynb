{
  "nbformat": 4,
  "nbformat_minor": 0,
  "metadata": {
    "colab": {
      "provenance": []
    },
    "kernelspec": {
      "name": "python3",
      "display_name": "Python 3"
    },
    "language_info": {
      "name": "python"
    }
  },
  "cells": [
    {
      "cell_type": "code",
      "execution_count": null,
      "metadata": {
        "id": "DTNkCUReSzgK"
      },
      "outputs": [],
      "source": [
        "from tensorflow.keras.datasets import imdb"
      ]
    },
    {
      "cell_type": "code",
      "source": [
        "(train_data, train_labels), (test_data, test_labels) = imdb.load_data(\n",
        "    num_words=10000)                     # the num_words means you only keep the top 10000 msot frequently occuring words\n",
        "                                         # in the training data."
      ],
      "metadata": {
        "colab": {
          "base_uri": "https://localhost:8080/"
        },
        "id": "ZtVcC19-Zrpw",
        "outputId": "8759932d-5fe6-40cb-fed5-94e3040274d1"
      },
      "execution_count": null,
      "outputs": [
        {
          "output_type": "stream",
          "name": "stdout",
          "text": [
            "Downloading data from https://storage.googleapis.com/tensorflow/tf-keras-datasets/imdb.npz\n",
            "\u001b[1m17464789/17464789\u001b[0m \u001b[32m━━━━━━━━━━━━━━━━━━━━\u001b[0m\u001b[37m\u001b[0m \u001b[1m1s\u001b[0m 0us/step\n"
          ]
        }
      ]
    },
    {
      "cell_type": "code",
      "source": [
        "train_data[0]"
      ],
      "metadata": {
        "id": "K3VBHJ90aP7Y",
        "colab": {
          "base_uri": "https://localhost:8080/"
        },
        "outputId": "9f1a4408-f610-4113-c5af-9a7872637b7c"
      },
      "execution_count": null,
      "outputs": [
        {
          "output_type": "execute_result",
          "data": {
            "text/plain": [
              "[1,\n",
              " 14,\n",
              " 22,\n",
              " 16,\n",
              " 43,\n",
              " 530,\n",
              " 973,\n",
              " 1622,\n",
              " 1385,\n",
              " 65,\n",
              " 458,\n",
              " 4468,\n",
              " 66,\n",
              " 3941,\n",
              " 4,\n",
              " 173,\n",
              " 36,\n",
              " 256,\n",
              " 5,\n",
              " 25,\n",
              " 100,\n",
              " 43,\n",
              " 838,\n",
              " 112,\n",
              " 50,\n",
              " 670,\n",
              " 2,\n",
              " 9,\n",
              " 35,\n",
              " 480,\n",
              " 284,\n",
              " 5,\n",
              " 150,\n",
              " 4,\n",
              " 172,\n",
              " 112,\n",
              " 167,\n",
              " 2,\n",
              " 336,\n",
              " 385,\n",
              " 39,\n",
              " 4,\n",
              " 172,\n",
              " 4536,\n",
              " 1111,\n",
              " 17,\n",
              " 546,\n",
              " 38,\n",
              " 13,\n",
              " 447,\n",
              " 4,\n",
              " 192,\n",
              " 50,\n",
              " 16,\n",
              " 6,\n",
              " 147,\n",
              " 2025,\n",
              " 19,\n",
              " 14,\n",
              " 22,\n",
              " 4,\n",
              " 1920,\n",
              " 4613,\n",
              " 469,\n",
              " 4,\n",
              " 22,\n",
              " 71,\n",
              " 87,\n",
              " 12,\n",
              " 16,\n",
              " 43,\n",
              " 530,\n",
              " 38,\n",
              " 76,\n",
              " 15,\n",
              " 13,\n",
              " 1247,\n",
              " 4,\n",
              " 22,\n",
              " 17,\n",
              " 515,\n",
              " 17,\n",
              " 12,\n",
              " 16,\n",
              " 626,\n",
              " 18,\n",
              " 2,\n",
              " 5,\n",
              " 62,\n",
              " 386,\n",
              " 12,\n",
              " 8,\n",
              " 316,\n",
              " 8,\n",
              " 106,\n",
              " 5,\n",
              " 4,\n",
              " 2223,\n",
              " 5244,\n",
              " 16,\n",
              " 480,\n",
              " 66,\n",
              " 3785,\n",
              " 33,\n",
              " 4,\n",
              " 130,\n",
              " 12,\n",
              " 16,\n",
              " 38,\n",
              " 619,\n",
              " 5,\n",
              " 25,\n",
              " 124,\n",
              " 51,\n",
              " 36,\n",
              " 135,\n",
              " 48,\n",
              " 25,\n",
              " 1415,\n",
              " 33,\n",
              " 6,\n",
              " 22,\n",
              " 12,\n",
              " 215,\n",
              " 28,\n",
              " 77,\n",
              " 52,\n",
              " 5,\n",
              " 14,\n",
              " 407,\n",
              " 16,\n",
              " 82,\n",
              " 2,\n",
              " 8,\n",
              " 4,\n",
              " 107,\n",
              " 117,\n",
              " 5952,\n",
              " 15,\n",
              " 256,\n",
              " 4,\n",
              " 2,\n",
              " 7,\n",
              " 3766,\n",
              " 5,\n",
              " 723,\n",
              " 36,\n",
              " 71,\n",
              " 43,\n",
              " 530,\n",
              " 476,\n",
              " 26,\n",
              " 400,\n",
              " 317,\n",
              " 46,\n",
              " 7,\n",
              " 4,\n",
              " 2,\n",
              " 1029,\n",
              " 13,\n",
              " 104,\n",
              " 88,\n",
              " 4,\n",
              " 381,\n",
              " 15,\n",
              " 297,\n",
              " 98,\n",
              " 32,\n",
              " 2071,\n",
              " 56,\n",
              " 26,\n",
              " 141,\n",
              " 6,\n",
              " 194,\n",
              " 7486,\n",
              " 18,\n",
              " 4,\n",
              " 226,\n",
              " 22,\n",
              " 21,\n",
              " 134,\n",
              " 476,\n",
              " 26,\n",
              " 480,\n",
              " 5,\n",
              " 144,\n",
              " 30,\n",
              " 5535,\n",
              " 18,\n",
              " 51,\n",
              " 36,\n",
              " 28,\n",
              " 224,\n",
              " 92,\n",
              " 25,\n",
              " 104,\n",
              " 4,\n",
              " 226,\n",
              " 65,\n",
              " 16,\n",
              " 38,\n",
              " 1334,\n",
              " 88,\n",
              " 12,\n",
              " 16,\n",
              " 283,\n",
              " 5,\n",
              " 16,\n",
              " 4472,\n",
              " 113,\n",
              " 103,\n",
              " 32,\n",
              " 15,\n",
              " 16,\n",
              " 5345,\n",
              " 19,\n",
              " 178,\n",
              " 32]"
            ]
          },
          "metadata": {},
          "execution_count": 3
        }
      ]
    },
    {
      "cell_type": "code",
      "source": [
        "len(train_data[0])"
      ],
      "metadata": {
        "colab": {
          "base_uri": "https://localhost:8080/"
        },
        "id": "vUEuxpURalBa",
        "outputId": "0506cea4-0d65-4efe-a5e2-d8f7a63b4d35"
      },
      "execution_count": null,
      "outputs": [
        {
          "output_type": "execute_result",
          "data": {
            "text/plain": [
              "218"
            ]
          },
          "metadata": {},
          "execution_count": 4
        }
      ]
    },
    {
      "cell_type": "code",
      "source": [
        "len(train_data)"
      ],
      "metadata": {
        "colab": {
          "base_uri": "https://localhost:8080/"
        },
        "id": "hZtpOzC9b9lM",
        "outputId": "a6136448-3bb2-4683-8d53-9b64d186549a"
      },
      "execution_count": null,
      "outputs": [
        {
          "output_type": "execute_result",
          "data": {
            "text/plain": [
              "25000"
            ]
          },
          "metadata": {},
          "execution_count": 5
        }
      ]
    },
    {
      "cell_type": "code",
      "source": [
        "train_labels[0]"
      ],
      "metadata": {
        "colab": {
          "base_uri": "https://localhost:8080/"
        },
        "id": "7IAocUjFaTvY",
        "outputId": "96f96723-c766-4755-9084-b936a8abd19b"
      },
      "execution_count": null,
      "outputs": [
        {
          "output_type": "execute_result",
          "data": {
            "text/plain": [
              "np.int64(1)"
            ]
          },
          "metadata": {},
          "execution_count": 6
        }
      ]
    },
    {
      "cell_type": "code",
      "source": [
        "# bcs we're restricting ourselves to the top 10,000 most frequent words, no word index will exceed 10000:\n",
        "max([max(x) for x in train_data])"
      ],
      "metadata": {
        "colab": {
          "base_uri": "https://localhost:8080/"
        },
        "id": "73wO5Wc5aW4o",
        "outputId": "6604b891-9667-4c73-d064-39be0a0cf458"
      },
      "execution_count": null,
      "outputs": [
        {
          "output_type": "execute_result",
          "data": {
            "text/plain": [
              "9999"
            ]
          },
          "metadata": {},
          "execution_count": 7
        }
      ]
    },
    {
      "cell_type": "code",
      "source": [
        "train_data.shape"
      ],
      "metadata": {
        "colab": {
          "base_uri": "https://localhost:8080/"
        },
        "id": "9Y0qoNyBbYxw",
        "outputId": "34894a8c-5da6-4e3a-abdc-234d74bcf3e3"
      },
      "execution_count": null,
      "outputs": [
        {
          "output_type": "execute_result",
          "data": {
            "text/plain": [
              "(25000,)"
            ]
          },
          "metadata": {},
          "execution_count": 8
        }
      ]
    },
    {
      "cell_type": "code",
      "source": [
        "len([max(x) for x in train_data])"
      ],
      "metadata": {
        "colab": {
          "base_uri": "https://localhost:8080/"
        },
        "id": "OQf-KS5IcM0J",
        "outputId": "eb39e546-88dd-46d2-cf92-ce81be087984"
      },
      "execution_count": null,
      "outputs": [
        {
          "output_type": "execute_result",
          "data": {
            "text/plain": [
              "25000"
            ]
          },
          "metadata": {},
          "execution_count": 9
        }
      ]
    },
    {
      "cell_type": "markdown",
      "source": [
        "## Lets try and decode one of these reviews back to English words, for Kicks !"
      ],
      "metadata": {
        "id": "Ce5bivmnfhdD"
      }
    },
    {
      "cell_type": "code",
      "source": [
        "word_index = imdb.get_word_index()"
      ],
      "metadata": {
        "colab": {
          "base_uri": "https://localhost:8080/"
        },
        "id": "g1N8_ba0cVFb",
        "outputId": "8f7d79e6-386d-4877-d57a-b245d648077d"
      },
      "execution_count": null,
      "outputs": [
        {
          "output_type": "stream",
          "name": "stdout",
          "text": [
            "Downloading data from https://storage.googleapis.com/tensorflow/tf-keras-datasets/imdb_word_index.json\n",
            "\u001b[1m1641221/1641221\u001b[0m \u001b[32m━━━━━━━━━━━━━━━━━━━━\u001b[0m\u001b[37m\u001b[0m \u001b[1m1s\u001b[0m 0us/step\n"
          ]
        }
      ]
    },
    {
      "cell_type": "code",
      "source": [
        "reverse_word_index = dict([(value,key) for (key,value) in word_index.items()])"
      ],
      "metadata": {
        "id": "q6vGLSCZfziY"
      },
      "execution_count": null,
      "outputs": []
    },
    {
      "cell_type": "code",
      "source": [
        "reverse_word_index"
      ],
      "metadata": {
        "colab": {
          "base_uri": "https://localhost:8080/"
        },
        "id": "IH_KJ2RcglMj",
        "outputId": "2b5ff4ae-6fcc-4116-f0ac-012b8e279039"
      },
      "execution_count": null,
      "outputs": [
        {
          "output_type": "execute_result",
          "data": {
            "text/plain": [
              "{34701: 'fawn',\n",
              " 52006: 'tsukino',\n",
              " 52007: 'nunnery',\n",
              " 16816: 'sonja',\n",
              " 63951: 'vani',\n",
              " 1408: 'woods',\n",
              " 16115: 'spiders',\n",
              " 2345: 'hanging',\n",
              " 2289: 'woody',\n",
              " 52008: 'trawling',\n",
              " 52009: \"hold's\",\n",
              " 11307: 'comically',\n",
              " 40830: 'localized',\n",
              " 30568: 'disobeying',\n",
              " 52010: \"'royale\",\n",
              " 40831: \"harpo's\",\n",
              " 52011: 'canet',\n",
              " 19313: 'aileen',\n",
              " 52012: 'acurately',\n",
              " 52013: \"diplomat's\",\n",
              " 25242: 'rickman',\n",
              " 6746: 'arranged',\n",
              " 52014: 'rumbustious',\n",
              " 52015: 'familiarness',\n",
              " 52016: \"spider'\",\n",
              " 68804: 'hahahah',\n",
              " 52017: \"wood'\",\n",
              " 40833: 'transvestism',\n",
              " 34702: \"hangin'\",\n",
              " 2338: 'bringing',\n",
              " 40834: 'seamier',\n",
              " 34703: 'wooded',\n",
              " 52018: 'bravora',\n",
              " 16817: 'grueling',\n",
              " 1636: 'wooden',\n",
              " 16818: 'wednesday',\n",
              " 52019: \"'prix\",\n",
              " 34704: 'altagracia',\n",
              " 52020: 'circuitry',\n",
              " 11585: 'crotch',\n",
              " 57766: 'busybody',\n",
              " 52021: \"tart'n'tangy\",\n",
              " 14129: 'burgade',\n",
              " 52023: 'thrace',\n",
              " 11038: \"tom's\",\n",
              " 52025: 'snuggles',\n",
              " 29114: 'francesco',\n",
              " 52027: 'complainers',\n",
              " 52125: 'templarios',\n",
              " 40835: '272',\n",
              " 52028: '273',\n",
              " 52130: 'zaniacs',\n",
              " 34706: '275',\n",
              " 27631: 'consenting',\n",
              " 40836: 'snuggled',\n",
              " 15492: 'inanimate',\n",
              " 52030: 'uality',\n",
              " 11926: 'bronte',\n",
              " 4010: 'errors',\n",
              " 3230: 'dialogs',\n",
              " 52031: \"yomada's\",\n",
              " 34707: \"madman's\",\n",
              " 30585: 'dialoge',\n",
              " 52033: 'usenet',\n",
              " 40837: 'videodrome',\n",
              " 26338: \"kid'\",\n",
              " 52034: 'pawed',\n",
              " 30569: \"'girlfriend'\",\n",
              " 52035: \"'pleasure\",\n",
              " 52036: \"'reloaded'\",\n",
              " 40839: \"kazakos'\",\n",
              " 52037: 'rocque',\n",
              " 52038: 'mailings',\n",
              " 11927: 'brainwashed',\n",
              " 16819: 'mcanally',\n",
              " 52039: \"tom''\",\n",
              " 25243: 'kurupt',\n",
              " 21905: 'affiliated',\n",
              " 52040: 'babaganoosh',\n",
              " 40840: \"noe's\",\n",
              " 40841: 'quart',\n",
              " 359: 'kids',\n",
              " 5034: 'uplifting',\n",
              " 7093: 'controversy',\n",
              " 21906: 'kida',\n",
              " 23379: 'kidd',\n",
              " 52041: \"error'\",\n",
              " 52042: 'neurologist',\n",
              " 18510: 'spotty',\n",
              " 30570: 'cobblers',\n",
              " 9878: 'projection',\n",
              " 40842: 'fastforwarding',\n",
              " 52043: 'sters',\n",
              " 52044: \"eggar's\",\n",
              " 52045: 'etherything',\n",
              " 40843: 'gateshead',\n",
              " 34708: 'airball',\n",
              " 25244: 'unsinkable',\n",
              " 7180: 'stern',\n",
              " 52046: \"cervi's\",\n",
              " 40844: 'dnd',\n",
              " 11586: 'dna',\n",
              " 20598: 'insecurity',\n",
              " 52047: \"'reboot'\",\n",
              " 11037: 'trelkovsky',\n",
              " 52048: 'jaekel',\n",
              " 52049: 'sidebars',\n",
              " 52050: \"sforza's\",\n",
              " 17633: 'distortions',\n",
              " 52051: 'mutinies',\n",
              " 30602: 'sermons',\n",
              " 40846: '7ft',\n",
              " 52052: 'boobage',\n",
              " 52053: \"o'bannon's\",\n",
              " 23380: 'populations',\n",
              " 52054: 'chulak',\n",
              " 27633: 'mesmerize',\n",
              " 52055: 'quinnell',\n",
              " 10307: 'yahoo',\n",
              " 52057: 'meteorologist',\n",
              " 42577: 'beswick',\n",
              " 15493: 'boorman',\n",
              " 40847: 'voicework',\n",
              " 52058: \"ster'\",\n",
              " 22922: 'blustering',\n",
              " 52059: 'hj',\n",
              " 27634: 'intake',\n",
              " 5621: 'morally',\n",
              " 40849: 'jumbling',\n",
              " 52060: 'bowersock',\n",
              " 52061: \"'porky's'\",\n",
              " 16821: 'gershon',\n",
              " 40850: 'ludicrosity',\n",
              " 52062: 'coprophilia',\n",
              " 40851: 'expressively',\n",
              " 19500: \"india's\",\n",
              " 34710: \"post's\",\n",
              " 52063: 'wana',\n",
              " 5283: 'wang',\n",
              " 30571: 'wand',\n",
              " 25245: 'wane',\n",
              " 52321: 'edgeways',\n",
              " 34711: 'titanium',\n",
              " 40852: 'pinta',\n",
              " 178: 'want',\n",
              " 30572: 'pinto',\n",
              " 52065: 'whoopdedoodles',\n",
              " 21908: 'tchaikovsky',\n",
              " 2103: 'travel',\n",
              " 52066: \"'victory'\",\n",
              " 11928: 'copious',\n",
              " 22433: 'gouge',\n",
              " 52067: \"chapters'\",\n",
              " 6702: 'barbra',\n",
              " 30573: 'uselessness',\n",
              " 52068: \"wan'\",\n",
              " 27635: 'assimilated',\n",
              " 16116: 'petiot',\n",
              " 52069: 'most\\x85and',\n",
              " 3930: 'dinosaurs',\n",
              " 352: 'wrong',\n",
              " 52070: 'seda',\n",
              " 52071: 'stollen',\n",
              " 34712: 'sentencing',\n",
              " 40853: 'ouroboros',\n",
              " 40854: 'assimilates',\n",
              " 40855: 'colorfully',\n",
              " 27636: 'glenne',\n",
              " 52072: 'dongen',\n",
              " 4760: 'subplots',\n",
              " 52073: 'kiloton',\n",
              " 23381: 'chandon',\n",
              " 34713: \"effect'\",\n",
              " 27637: 'snugly',\n",
              " 40856: 'kuei',\n",
              " 9092: 'welcomed',\n",
              " 30071: 'dishonor',\n",
              " 52075: 'concurrence',\n",
              " 23382: 'stoicism',\n",
              " 14896: \"guys'\",\n",
              " 52077: \"beroemd'\",\n",
              " 6703: 'butcher',\n",
              " 40857: \"melfi's\",\n",
              " 30623: 'aargh',\n",
              " 20599: 'playhouse',\n",
              " 11308: 'wickedly',\n",
              " 1180: 'fit',\n",
              " 52078: 'labratory',\n",
              " 40859: 'lifeline',\n",
              " 1927: 'screaming',\n",
              " 4287: 'fix',\n",
              " 52079: 'cineliterate',\n",
              " 52080: 'fic',\n",
              " 52081: 'fia',\n",
              " 34714: 'fig',\n",
              " 52082: 'fmvs',\n",
              " 52083: 'fie',\n",
              " 52084: 'reentered',\n",
              " 30574: 'fin',\n",
              " 52085: 'doctresses',\n",
              " 52086: 'fil',\n",
              " 12606: 'zucker',\n",
              " 31931: 'ached',\n",
              " 52088: 'counsil',\n",
              " 52089: 'paterfamilias',\n",
              " 13885: 'songwriter',\n",
              " 34715: 'shivam',\n",
              " 9654: 'hurting',\n",
              " 299: 'effects',\n",
              " 52090: 'slauther',\n",
              " 52091: \"'flame'\",\n",
              " 52092: 'sommerset',\n",
              " 52093: 'interwhined',\n",
              " 27638: 'whacking',\n",
              " 52094: 'bartok',\n",
              " 8775: 'barton',\n",
              " 21909: 'frewer',\n",
              " 52095: \"fi'\",\n",
              " 6192: 'ingrid',\n",
              " 30575: 'stribor',\n",
              " 52096: 'approporiately',\n",
              " 52097: 'wobblyhand',\n",
              " 52098: 'tantalisingly',\n",
              " 52099: 'ankylosaurus',\n",
              " 17634: 'parasites',\n",
              " 52100: 'childen',\n",
              " 52101: \"jenkins'\",\n",
              " 52102: 'metafiction',\n",
              " 17635: 'golem',\n",
              " 40860: 'indiscretion',\n",
              " 23383: \"reeves'\",\n",
              " 57781: \"inamorata's\",\n",
              " 52104: 'brittannica',\n",
              " 7916: 'adapt',\n",
              " 30576: \"russo's\",\n",
              " 48246: 'guitarists',\n",
              " 10553: 'abbott',\n",
              " 40861: 'abbots',\n",
              " 17649: 'lanisha',\n",
              " 40863: 'magickal',\n",
              " 52105: 'mattter',\n",
              " 52106: \"'willy\",\n",
              " 34716: 'pumpkins',\n",
              " 52107: 'stuntpeople',\n",
              " 30577: 'estimate',\n",
              " 40864: 'ugghhh',\n",
              " 11309: 'gameplay',\n",
              " 52108: \"wern't\",\n",
              " 40865: \"n'sync\",\n",
              " 16117: 'sickeningly',\n",
              " 40866: 'chiara',\n",
              " 4011: 'disturbed',\n",
              " 40867: 'portmanteau',\n",
              " 52109: 'ineffectively',\n",
              " 82143: \"duchonvey's\",\n",
              " 37519: \"nasty'\",\n",
              " 1285: 'purpose',\n",
              " 52112: 'lazers',\n",
              " 28105: 'lightened',\n",
              " 52113: 'kaliganj',\n",
              " 52114: 'popularism',\n",
              " 18511: \"damme's\",\n",
              " 30578: 'stylistics',\n",
              " 52115: 'mindgaming',\n",
              " 46449: 'spoilerish',\n",
              " 52117: \"'corny'\",\n",
              " 34718: 'boerner',\n",
              " 6792: 'olds',\n",
              " 52118: 'bakelite',\n",
              " 27639: 'renovated',\n",
              " 27640: 'forrester',\n",
              " 52119: \"lumiere's\",\n",
              " 52024: 'gaskets',\n",
              " 884: 'needed',\n",
              " 34719: 'smight',\n",
              " 1297: 'master',\n",
              " 25905: \"edie's\",\n",
              " 40868: 'seeber',\n",
              " 52120: 'hiya',\n",
              " 52121: 'fuzziness',\n",
              " 14897: 'genesis',\n",
              " 12607: 'rewards',\n",
              " 30579: 'enthrall',\n",
              " 40869: \"'about\",\n",
              " 52122: \"recollection's\",\n",
              " 11039: 'mutilated',\n",
              " 52123: 'fatherlands',\n",
              " 52124: \"fischer's\",\n",
              " 5399: 'positively',\n",
              " 34705: '270',\n",
              " 34720: 'ahmed',\n",
              " 9836: 'zatoichi',\n",
              " 13886: 'bannister',\n",
              " 52127: 'anniversaries',\n",
              " 30580: \"helm's\",\n",
              " 52128: \"'work'\",\n",
              " 34721: 'exclaimed',\n",
              " 52129: \"'unfunny'\",\n",
              " 52029: '274',\n",
              " 544: 'feeling',\n",
              " 52131: \"wanda's\",\n",
              " 33266: 'dolan',\n",
              " 52133: '278',\n",
              " 52134: 'peacoat',\n",
              " 40870: 'brawny',\n",
              " 40871: 'mishra',\n",
              " 40872: 'worlders',\n",
              " 52135: 'protags',\n",
              " 52136: 'skullcap',\n",
              " 57596: 'dastagir',\n",
              " 5622: 'affairs',\n",
              " 7799: 'wholesome',\n",
              " 52137: 'hymen',\n",
              " 25246: 'paramedics',\n",
              " 52138: 'unpersons',\n",
              " 52139: 'heavyarms',\n",
              " 52140: 'affaire',\n",
              " 52141: 'coulisses',\n",
              " 40873: 'hymer',\n",
              " 52142: 'kremlin',\n",
              " 30581: 'shipments',\n",
              " 52143: 'pixilated',\n",
              " 30582: \"'00s\",\n",
              " 18512: 'diminishing',\n",
              " 1357: 'cinematic',\n",
              " 14898: 'resonates',\n",
              " 40874: 'simplify',\n",
              " 40875: \"nature'\",\n",
              " 40876: 'temptresses',\n",
              " 16822: 'reverence',\n",
              " 19502: 'resonated',\n",
              " 34722: 'dailey',\n",
              " 52144: '2\\x85',\n",
              " 27641: 'treize',\n",
              " 52145: 'majo',\n",
              " 21910: 'kiya',\n",
              " 52146: 'woolnough',\n",
              " 39797: 'thanatos',\n",
              " 35731: 'sandoval',\n",
              " 40879: 'dorama',\n",
              " 52147: \"o'shaughnessy\",\n",
              " 4988: 'tech',\n",
              " 32018: 'fugitives',\n",
              " 30583: 'teck',\n",
              " 76125: \"'e'\",\n",
              " 40881: 'doesn’t',\n",
              " 52149: 'purged',\n",
              " 657: 'saying',\n",
              " 41095: \"martians'\",\n",
              " 23418: 'norliss',\n",
              " 27642: 'dickey',\n",
              " 52152: 'dicker',\n",
              " 52153: \"'sependipity\",\n",
              " 8422: 'padded',\n",
              " 57792: 'ordell',\n",
              " 40882: \"sturges'\",\n",
              " 52154: 'independentcritics',\n",
              " 5745: 'tempted',\n",
              " 34724: \"atkinson's\",\n",
              " 25247: 'hounded',\n",
              " 52155: 'apace',\n",
              " 15494: 'clicked',\n",
              " 30584: \"'humor'\",\n",
              " 17177: \"martino's\",\n",
              " 52156: \"'supporting\",\n",
              " 52032: 'warmongering',\n",
              " 34725: \"zemeckis's\",\n",
              " 21911: 'lube',\n",
              " 52157: 'shocky',\n",
              " 7476: 'plate',\n",
              " 40883: 'plata',\n",
              " 40884: 'sturgess',\n",
              " 40885: \"nerds'\",\n",
              " 20600: 'plato',\n",
              " 34726: 'plath',\n",
              " 40886: 'platt',\n",
              " 52159: 'mcnab',\n",
              " 27643: 'clumsiness',\n",
              " 3899: 'altogether',\n",
              " 42584: 'massacring',\n",
              " 52160: 'bicenntinial',\n",
              " 40887: 'skaal',\n",
              " 14360: 'droning',\n",
              " 8776: 'lds',\n",
              " 21912: 'jaguar',\n",
              " 34727: \"cale's\",\n",
              " 1777: 'nicely',\n",
              " 4588: 'mummy',\n",
              " 18513: \"lot's\",\n",
              " 10086: 'patch',\n",
              " 50202: 'kerkhof',\n",
              " 52161: \"leader's\",\n",
              " 27644: \"'movie\",\n",
              " 52162: 'uncomfirmed',\n",
              " 40888: 'heirloom',\n",
              " 47360: 'wrangle',\n",
              " 52163: 'emotion\\x85',\n",
              " 52164: \"'stargate'\",\n",
              " 40889: 'pinoy',\n",
              " 40890: 'conchatta',\n",
              " 41128: 'broeke',\n",
              " 40891: 'advisedly',\n",
              " 17636: \"barker's\",\n",
              " 52166: 'descours',\n",
              " 772: 'lots',\n",
              " 9259: 'lotr',\n",
              " 9879: 'irs',\n",
              " 52167: 'lott',\n",
              " 40892: 'xvi',\n",
              " 34728: 'irk',\n",
              " 52168: 'irl',\n",
              " 6887: 'ira',\n",
              " 21913: 'belzer',\n",
              " 52169: 'irc',\n",
              " 27645: 'ire',\n",
              " 40893: 'requisites',\n",
              " 7693: 'discipline',\n",
              " 52961: 'lyoko',\n",
              " 11310: 'extend',\n",
              " 873: 'nature',\n",
              " 52170: \"'dickie'\",\n",
              " 40894: 'optimist',\n",
              " 30586: 'lapping',\n",
              " 3900: 'superficial',\n",
              " 52171: 'vestment',\n",
              " 2823: 'extent',\n",
              " 52172: 'tendons',\n",
              " 52173: \"heller's\",\n",
              " 52174: 'quagmires',\n",
              " 52175: 'miyako',\n",
              " 20601: 'moocow',\n",
              " 52176: \"coles'\",\n",
              " 40895: 'lookit',\n",
              " 52177: 'ravenously',\n",
              " 40896: 'levitating',\n",
              " 52178: 'perfunctorily',\n",
              " 30587: 'lookin',\n",
              " 40898: \"lot'\",\n",
              " 52179: 'lookie',\n",
              " 34870: 'fearlessly',\n",
              " 52181: 'libyan',\n",
              " 40899: 'fondles',\n",
              " 35714: 'gopher',\n",
              " 40901: 'wearying',\n",
              " 52182: \"nz's\",\n",
              " 27646: 'minuses',\n",
              " 52183: 'puposelessly',\n",
              " 52184: 'shandling',\n",
              " 31268: 'decapitates',\n",
              " 11929: 'humming',\n",
              " 40902: \"'nother\",\n",
              " 21914: 'smackdown',\n",
              " 30588: 'underdone',\n",
              " 40903: 'frf',\n",
              " 52185: 'triviality',\n",
              " 25248: 'fro',\n",
              " 8777: 'bothers',\n",
              " 52186: \"'kensington\",\n",
              " 73: 'much',\n",
              " 34730: 'muco',\n",
              " 22615: 'wiseguy',\n",
              " 27648: \"richie's\",\n",
              " 40904: 'tonino',\n",
              " 52187: 'unleavened',\n",
              " 11587: 'fry',\n",
              " 40905: \"'tv'\",\n",
              " 40906: 'toning',\n",
              " 14361: 'obese',\n",
              " 30589: 'sensationalized',\n",
              " 40907: 'spiv',\n",
              " 6259: 'spit',\n",
              " 7364: 'arkin',\n",
              " 21915: 'charleton',\n",
              " 16823: 'jeon',\n",
              " 21916: 'boardroom',\n",
              " 4989: 'doubts',\n",
              " 3084: 'spin',\n",
              " 53083: 'hepo',\n",
              " 27649: 'wildcat',\n",
              " 10584: 'venoms',\n",
              " 52191: 'misconstrues',\n",
              " 18514: 'mesmerising',\n",
              " 40908: 'misconstrued',\n",
              " 52192: 'rescinds',\n",
              " 52193: 'prostrate',\n",
              " 40909: 'majid',\n",
              " 16479: 'climbed',\n",
              " 34731: 'canoeing',\n",
              " 52195: 'majin',\n",
              " 57804: 'animie',\n",
              " 40910: 'sylke',\n",
              " 14899: 'conditioned',\n",
              " 40911: 'waddell',\n",
              " 52196: '3\\x85',\n",
              " 41188: 'hyperdrive',\n",
              " 34732: 'conditioner',\n",
              " 53153: 'bricklayer',\n",
              " 2576: 'hong',\n",
              " 52198: 'memoriam',\n",
              " 30592: 'inventively',\n",
              " 25249: \"levant's\",\n",
              " 20638: 'portobello',\n",
              " 52200: 'remand',\n",
              " 19504: 'mummified',\n",
              " 27650: 'honk',\n",
              " 19505: 'spews',\n",
              " 40912: 'visitations',\n",
              " 52201: 'mummifies',\n",
              " 25250: 'cavanaugh',\n",
              " 23385: 'zeon',\n",
              " 40913: \"jungle's\",\n",
              " 34733: 'viertel',\n",
              " 27651: 'frenchmen',\n",
              " 52202: 'torpedoes',\n",
              " 52203: 'schlessinger',\n",
              " 34734: 'torpedoed',\n",
              " 69876: 'blister',\n",
              " 52204: 'cinefest',\n",
              " 34735: 'furlough',\n",
              " 52205: 'mainsequence',\n",
              " 40914: 'mentors',\n",
              " 9094: 'academic',\n",
              " 20602: 'stillness',\n",
              " 40915: 'academia',\n",
              " 52206: 'lonelier',\n",
              " 52207: 'nibby',\n",
              " 52208: \"losers'\",\n",
              " 40916: 'cineastes',\n",
              " 4449: 'corporate',\n",
              " 40917: 'massaging',\n",
              " 30593: 'bellow',\n",
              " 19506: 'absurdities',\n",
              " 53241: 'expetations',\n",
              " 40918: 'nyfiken',\n",
              " 75638: 'mehras',\n",
              " 52209: 'lasse',\n",
              " 52210: 'visability',\n",
              " 33946: 'militarily',\n",
              " 52211: \"elder'\",\n",
              " 19023: 'gainsbourg',\n",
              " 20603: 'hah',\n",
              " 13420: 'hai',\n",
              " 34736: 'haj',\n",
              " 25251: 'hak',\n",
              " 4311: 'hal',\n",
              " 4892: 'ham',\n",
              " 53259: 'duffer',\n",
              " 52213: 'haa',\n",
              " 66: 'had',\n",
              " 11930: 'advancement',\n",
              " 16825: 'hag',\n",
              " 25252: \"hand'\",\n",
              " 13421: 'hay',\n",
              " 20604: 'mcnamara',\n",
              " 52214: \"mozart's\",\n",
              " 30731: 'duffel',\n",
              " 30594: 'haq',\n",
              " 13887: 'har',\n",
              " 44: 'has',\n",
              " 2401: 'hat',\n",
              " 40919: 'hav',\n",
              " 30595: 'haw',\n",
              " 52215: 'figtings',\n",
              " 15495: 'elders',\n",
              " 52216: 'underpanted',\n",
              " 52217: 'pninson',\n",
              " 27652: 'unequivocally',\n",
              " 23673: \"barbara's\",\n",
              " 52219: \"bello'\",\n",
              " 12997: 'indicative',\n",
              " 40920: 'yawnfest',\n",
              " 52220: 'hexploitation',\n",
              " 52221: \"loder's\",\n",
              " 27653: 'sleuthing',\n",
              " 32622: \"justin's\",\n",
              " 52222: \"'ball\",\n",
              " 52223: \"'summer\",\n",
              " 34935: \"'demons'\",\n",
              " 52225: \"mormon's\",\n",
              " 34737: \"laughton's\",\n",
              " 52226: 'debell',\n",
              " 39724: 'shipyard',\n",
              " 30597: 'unabashedly',\n",
              " 40401: 'disks',\n",
              " 2290: 'crowd',\n",
              " 10087: 'crowe',\n",
              " 56434: \"vancouver's\",\n",
              " 34738: 'mosques',\n",
              " 6627: 'crown',\n",
              " 52227: 'culpas',\n",
              " 27654: 'crows',\n",
              " 53344: 'surrell',\n",
              " 52229: 'flowless',\n",
              " 52230: 'sheirk',\n",
              " 40923: \"'three\",\n",
              " 52231: \"peterson'\",\n",
              " 52232: 'ooverall',\n",
              " 40924: 'perchance',\n",
              " 1321: 'bottom',\n",
              " 53363: 'chabert',\n",
              " 52233: 'sneha',\n",
              " 13888: 'inhuman',\n",
              " 52234: 'ichii',\n",
              " 52235: 'ursla',\n",
              " 30598: 'completly',\n",
              " 40925: 'moviedom',\n",
              " 52236: 'raddick',\n",
              " 51995: 'brundage',\n",
              " 40926: 'brigades',\n",
              " 1181: 'starring',\n",
              " 52237: \"'goal'\",\n",
              " 52238: 'caskets',\n",
              " 52239: 'willcock',\n",
              " 52240: \"threesome's\",\n",
              " 52241: \"mosque'\",\n",
              " 52242: \"cover's\",\n",
              " 17637: 'spaceships',\n",
              " 40927: 'anomalous',\n",
              " 27655: 'ptsd',\n",
              " 52243: 'shirdan',\n",
              " 21962: 'obscenity',\n",
              " 30599: 'lemmings',\n",
              " 30600: 'duccio',\n",
              " 52244: \"levene's\",\n",
              " 52245: \"'gorby'\",\n",
              " 25255: \"teenager's\",\n",
              " 5340: 'marshall',\n",
              " 9095: 'honeymoon',\n",
              " 3231: 'shoots',\n",
              " 12258: 'despised',\n",
              " 52246: 'okabasho',\n",
              " 8289: 'fabric',\n",
              " 18515: 'cannavale',\n",
              " 3537: 'raped',\n",
              " 52247: \"tutt's\",\n",
              " 17638: 'grasping',\n",
              " 18516: 'despises',\n",
              " 40928: \"thief's\",\n",
              " 8926: 'rapes',\n",
              " 52248: 'raper',\n",
              " 27656: \"eyre'\",\n",
              " 52249: 'walchek',\n",
              " 23386: \"elmo's\",\n",
              " 40929: 'perfumes',\n",
              " 21918: 'spurting',\n",
              " 52250: \"exposition'\\x85\",\n",
              " 52251: 'denoting',\n",
              " 34740: 'thesaurus',\n",
              " 40930: \"shoot'\",\n",
              " 49759: 'bonejack',\n",
              " 52253: 'simpsonian',\n",
              " 30601: 'hebetude',\n",
              " 34741: \"hallow's\",\n",
              " 52254: 'desperation\\x85',\n",
              " 34742: 'incinerator',\n",
              " 10308: 'congratulations',\n",
              " 52255: 'humbled',\n",
              " 5924: \"else's\",\n",
              " 40845: 'trelkovski',\n",
              " 52256: \"rape'\",\n",
              " 59386: \"'chapters'\",\n",
              " 52257: '1600s',\n",
              " 7253: 'martian',\n",
              " 25256: 'nicest',\n",
              " 52259: 'eyred',\n",
              " 9457: 'passenger',\n",
              " 6041: 'disgrace',\n",
              " 52260: 'moderne',\n",
              " 5120: 'barrymore',\n",
              " 52261: 'yankovich',\n",
              " 40931: 'moderns',\n",
              " 52262: 'studliest',\n",
              " 52263: 'bedsheet',\n",
              " 14900: 'decapitation',\n",
              " 52264: 'slurring',\n",
              " 52265: \"'nunsploitation'\",\n",
              " 34743: \"'character'\",\n",
              " 9880: 'cambodia',\n",
              " 52266: 'rebelious',\n",
              " 27657: 'pasadena',\n",
              " 40932: 'crowne',\n",
              " 52267: \"'bedchamber\",\n",
              " 52268: 'conjectural',\n",
              " 52269: 'appologize',\n",
              " 52270: 'halfassing',\n",
              " 57816: 'paycheque',\n",
              " 20606: 'palms',\n",
              " 52271: \"'islands\",\n",
              " 40933: 'hawked',\n",
              " 21919: 'palme',\n",
              " 40934: 'conservatively',\n",
              " 64007: 'larp',\n",
              " 5558: 'palma',\n",
              " 21920: 'smelling',\n",
              " 12998: 'aragorn',\n",
              " 52272: 'hawker',\n",
              " 52273: 'hawkes',\n",
              " 3975: 'explosions',\n",
              " 8059: 'loren',\n",
              " 52274: \"pyle's\",\n",
              " 6704: 'shootout',\n",
              " 18517: \"mike's\",\n",
              " 52275: \"driscoll's\",\n",
              " 40935: 'cogsworth',\n",
              " 52276: \"britian's\",\n",
              " 34744: 'childs',\n",
              " 52277: \"portrait's\",\n",
              " 3626: 'chain',\n",
              " 2497: 'whoever',\n",
              " 52278: 'puttered',\n",
              " 52279: 'childe',\n",
              " 52280: 'maywether',\n",
              " 3036: 'chair',\n",
              " 52281: \"rance's\",\n",
              " 34745: 'machu',\n",
              " 4517: 'ballet',\n",
              " 34746: 'grapples',\n",
              " 76152: 'summerize',\n",
              " 30603: 'freelance',\n",
              " 52283: \"andrea's\",\n",
              " 52284: '\\x91very',\n",
              " 45879: 'coolidge',\n",
              " 18518: 'mache',\n",
              " 52285: 'balled',\n",
              " 40937: 'grappled',\n",
              " 18519: 'macha',\n",
              " 21921: 'underlining',\n",
              " 5623: 'macho',\n",
              " 19507: 'oversight',\n",
              " 25257: 'machi',\n",
              " 11311: 'verbally',\n",
              " 21922: 'tenacious',\n",
              " 40938: 'windshields',\n",
              " 18557: 'paychecks',\n",
              " 3396: 'jerk',\n",
              " 11931: \"good'\",\n",
              " 34748: 'prancer',\n",
              " 21923: 'prances',\n",
              " 52286: 'olympus',\n",
              " 21924: 'lark',\n",
              " 10785: 'embark',\n",
              " 7365: 'gloomy',\n",
              " 52287: 'jehaan',\n",
              " 52288: 'turaqui',\n",
              " 20607: \"child'\",\n",
              " 2894: 'locked',\n",
              " 52289: 'pranced',\n",
              " 2588: 'exact',\n",
              " 52290: 'unattuned',\n",
              " 783: 'minute',\n",
              " 16118: 'skewed',\n",
              " 40940: 'hodgins',\n",
              " 34749: 'skewer',\n",
              " 52291: 'think\\x85',\n",
              " 38765: 'rosenstein',\n",
              " 52292: 'helmit',\n",
              " 34750: 'wrestlemanias',\n",
              " 16826: 'hindered',\n",
              " 30604: \"martha's\",\n",
              " 52293: 'cheree',\n",
              " 52294: \"pluckin'\",\n",
              " 40941: 'ogles',\n",
              " 11932: 'heavyweight',\n",
              " 82190: 'aada',\n",
              " 11312: 'chopping',\n",
              " 61534: 'strongboy',\n",
              " 41342: 'hegemonic',\n",
              " 40942: 'adorns',\n",
              " 41346: 'xxth',\n",
              " 34751: 'nobuhiro',\n",
              " 52298: 'capitães',\n",
              " 52299: 'kavogianni',\n",
              " 13422: 'antwerp',\n",
              " 6538: 'celebrated',\n",
              " 52300: 'roarke',\n",
              " 40943: 'baggins',\n",
              " 31270: 'cheeseburgers',\n",
              " 52301: 'matras',\n",
              " 52302: \"nineties'\",\n",
              " 52303: \"'craig'\",\n",
              " 12999: 'celebrates',\n",
              " 3383: 'unintentionally',\n",
              " 14362: 'drafted',\n",
              " 52304: 'climby',\n",
              " 52305: '303',\n",
              " 18520: 'oldies',\n",
              " 9096: 'climbs',\n",
              " 9655: 'honour',\n",
              " 34752: 'plucking',\n",
              " 30074: '305',\n",
              " 5514: 'address',\n",
              " 40944: 'menjou',\n",
              " 42592: \"'freak'\",\n",
              " 19508: 'dwindling',\n",
              " 9458: 'benson',\n",
              " 52307: 'white’s',\n",
              " 40945: 'shamelessness',\n",
              " 21925: 'impacted',\n",
              " 52308: 'upatz',\n",
              " 3840: 'cusack',\n",
              " 37567: \"flavia's\",\n",
              " 52309: 'effette',\n",
              " 34753: 'influx',\n",
              " 52310: 'boooooooo',\n",
              " 52311: 'dimitrova',\n",
              " 13423: 'houseman',\n",
              " 25259: 'bigas',\n",
              " 52312: 'boylen',\n",
              " 52313: 'phillipenes',\n",
              " 40946: 'fakery',\n",
              " 27658: \"grandpa's\",\n",
              " 27659: 'darnell',\n",
              " 19509: 'undergone',\n",
              " 52315: 'handbags',\n",
              " 21926: 'perished',\n",
              " 37778: 'pooped',\n",
              " 27660: 'vigour',\n",
              " 3627: 'opposed',\n",
              " 52316: 'etude',\n",
              " 11799: \"caine's\",\n",
              " 52317: 'doozers',\n",
              " 34754: 'photojournals',\n",
              " 52318: 'perishes',\n",
              " 34755: 'constrains',\n",
              " 40948: 'migenes',\n",
              " 30605: 'consoled',\n",
              " 16827: 'alastair',\n",
              " 52319: 'wvs',\n",
              " 52320: 'ooooooh',\n",
              " 34756: 'approving',\n",
              " 40949: 'consoles',\n",
              " 52064: 'disparagement',\n",
              " 52322: 'futureistic',\n",
              " 52323: 'rebounding',\n",
              " 52324: \"'date\",\n",
              " 52325: 'gregoire',\n",
              " 21927: 'rutherford',\n",
              " 34757: 'americanised',\n",
              " 82196: 'novikov',\n",
              " 1042: 'following',\n",
              " 34758: 'munroe',\n",
              " 52326: \"morita'\",\n",
              " 52327: 'christenssen',\n",
              " 23106: 'oatmeal',\n",
              " 25260: 'fossey',\n",
              " 40950: 'livered',\n",
              " 13000: 'listens',\n",
              " 76164: \"'marci\",\n",
              " 52330: \"otis's\",\n",
              " 23387: 'thanking',\n",
              " 16019: 'maude',\n",
              " 34759: 'extensions',\n",
              " 52332: 'ameteurish',\n",
              " 52333: \"commender's\",\n",
              " 27661: 'agricultural',\n",
              " 4518: 'convincingly',\n",
              " 17639: 'fueled',\n",
              " 54014: 'mahattan',\n",
              " 40952: \"paris's\",\n",
              " 52336: 'vulkan',\n",
              " 52337: 'stapes',\n",
              " 52338: 'odysessy',\n",
              " 12259: 'harmon',\n",
              " 4252: 'surfing',\n",
              " 23494: 'halloran',\n",
              " 49580: 'unbelieveably',\n",
              " 52339: \"'offed'\",\n",
              " 30607: 'quadrant',\n",
              " 19510: 'inhabiting',\n",
              " 34760: 'nebbish',\n",
              " 40953: 'forebears',\n",
              " 34761: 'skirmish',\n",
              " 52340: 'ocassionally',\n",
              " 52341: \"'resist\",\n",
              " 21928: 'impactful',\n",
              " 52342: 'spicier',\n",
              " 40954: 'touristy',\n",
              " 52343: \"'football'\",\n",
              " 40955: 'webpage',\n",
              " 52345: 'exurbia',\n",
              " 52346: 'jucier',\n",
              " 14901: 'professors',\n",
              " 34762: 'structuring',\n",
              " 30608: 'jig',\n",
              " 40956: 'overlord',\n",
              " 25261: 'disconnect',\n",
              " 82201: 'sniffle',\n",
              " 40957: 'slimeball',\n",
              " 40958: 'jia',\n",
              " 16828: 'milked',\n",
              " 40959: 'banjoes',\n",
              " 1237: 'jim',\n",
              " 52348: 'workforces',\n",
              " 52349: 'jip',\n",
              " 52350: 'rotweiller',\n",
              " 34763: 'mundaneness',\n",
              " 52351: \"'ninja'\",\n",
              " 11040: \"dead'\",\n",
              " 40960: \"cipriani's\",\n",
              " 20608: 'modestly',\n",
              " 52352: \"professor'\",\n",
              " 40961: 'shacked',\n",
              " 34764: 'bashful',\n",
              " 23388: 'sorter',\n",
              " 16120: 'overpowering',\n",
              " 18521: 'workmanlike',\n",
              " 27662: 'henpecked',\n",
              " 18522: 'sorted',\n",
              " 52354: \"jōb's\",\n",
              " 52355: \"'always\",\n",
              " 34765: \"'baptists\",\n",
              " 52356: 'dreamcatchers',\n",
              " 52357: \"'silence'\",\n",
              " 21929: 'hickory',\n",
              " 52358: 'fun\\x97yet',\n",
              " 52359: 'breakumentary',\n",
              " 15496: 'didn',\n",
              " 52360: 'didi',\n",
              " 52361: 'pealing',\n",
              " 40962: 'dispite',\n",
              " 25262: \"italy's\",\n",
              " 21930: 'instability',\n",
              " 6539: 'quarter',\n",
              " 12608: 'quartet',\n",
              " 52362: 'padmé',\n",
              " 52363: \"'bleedmedry\",\n",
              " 52364: 'pahalniuk',\n",
              " 52365: 'honduras',\n",
              " 10786: 'bursting',\n",
              " 41465: \"pablo's\",\n",
              " 52367: 'irremediably',\n",
              " 40963: 'presages',\n",
              " 57832: 'bowlegged',\n",
              " 65183: 'dalip',\n",
              " 6260: 'entering',\n",
              " 76172: 'newsradio',\n",
              " 54150: 'presaged',\n",
              " 27663: \"giallo's\",\n",
              " 40964: 'bouyant',\n",
              " 52368: 'amerterish',\n",
              " 18523: 'rajni',\n",
              " 30610: 'leeves',\n",
              " 34767: 'macauley',\n",
              " 612: 'seriously',\n",
              " 52369: 'sugercoma',\n",
              " 52370: 'grimstead',\n",
              " 52371: \"'fairy'\",\n",
              " 30611: 'zenda',\n",
              " 52372: \"'twins'\",\n",
              " 17640: 'realisation',\n",
              " 27664: 'highsmith',\n",
              " 7817: 'raunchy',\n",
              " 40965: 'incentives',\n",
              " 52374: 'flatson',\n",
              " 35097: 'snooker',\n",
              " 16829: 'crazies',\n",
              " 14902: 'crazier',\n",
              " 7094: 'grandma',\n",
              " 52375: 'napunsaktha',\n",
              " 30612: 'workmanship',\n",
              " 52376: 'reisner',\n",
              " 61306: \"sanford's\",\n",
              " 52377: '\\x91doña',\n",
              " 6108: 'modest',\n",
              " 19153: \"everything's\",\n",
              " 40966: 'hamer',\n",
              " 52379: \"couldn't'\",\n",
              " 13001: 'quibble',\n",
              " 52380: 'socking',\n",
              " 21931: 'tingler',\n",
              " 52381: 'gutman',\n",
              " 40967: 'lachlan',\n",
              " 52382: 'tableaus',\n",
              " 52383: 'headbanger',\n",
              " 2847: 'spoken',\n",
              " 34768: 'cerebrally',\n",
              " 23490: \"'road\",\n",
              " 21932: 'tableaux',\n",
              " 40968: \"proust's\",\n",
              " 40969: 'periodical',\n",
              " 52385: \"shoveller's\",\n",
              " 25263: 'tamara',\n",
              " 17641: 'affords',\n",
              " 3249: 'concert',\n",
              " 87955: \"yara's\",\n",
              " 52386: 'someome',\n",
              " 8424: 'lingering',\n",
              " 41511: \"abraham's\",\n",
              " 34769: 'beesley',\n",
              " 34770: 'cherbourg',\n",
              " 28624: 'kagan',\n",
              " 9097: 'snatch',\n",
              " 9260: \"miyazaki's\",\n",
              " 25264: 'absorbs',\n",
              " 40970: \"koltai's\",\n",
              " 64027: 'tingled',\n",
              " 19511: 'crossroads',\n",
              " 16121: 'rehab',\n",
              " 52389: 'falworth',\n",
              " 52390: 'sequals',\n",
              " ...}"
            ]
          },
          "metadata": {},
          "execution_count": 12
        }
      ]
    },
    {
      "cell_type": "code",
      "source": [
        "decoded_review = \" \".join(\n",
        "    [reverse_word_index.get(i -3 , \"?\") for i in train_data[0]]\n",
        ")"
      ],
      "metadata": {
        "id": "r6KJqARif2P1"
      },
      "execution_count": null,
      "outputs": []
    },
    {
      "cell_type": "code",
      "source": [
        "decoded_review"
      ],
      "metadata": {
        "colab": {
          "base_uri": "https://localhost:8080/",
          "height": 140
        },
        "id": "OuTF_xBZothR",
        "outputId": "3443baec-8d0f-470e-9aec-0abd31697aae"
      },
      "execution_count": null,
      "outputs": [
        {
          "output_type": "execute_result",
          "data": {
            "text/plain": [
              "\"? this film was just brilliant casting location scenery story direction everyone's really suited the part they played and you could just imagine being there robert ? is an amazing actor and now the same being director ? father came from the same scottish island as myself so i loved the fact there was a real connection with this film the witty remarks throughout the film were great it was just brilliant so much that i bought the film as soon as it was released for ? and would recommend it to everyone to watch and the fly fishing was amazing really cried at the end it was so sad and you know what they say if you cry at a film it must have been good and this definitely was also ? to the two little boy's that played the ? of norman and paul they were just brilliant children are often left out of the ? list i think because the stars that play them all grown up are such a big profile for the whole film but these children are amazing and should be praised for what they have done don't you think the whole story was so lovely because it was true and was someone's life after all that was shared with us all\""
            ],
            "application/vnd.google.colaboratory.intrinsic+json": {
              "type": "string"
            }
          },
          "metadata": {},
          "execution_count": 14
        }
      ]
    },
    {
      "cell_type": "markdown",
      "source": [
        "## Encoding the integer sequence via multi-hot encoding"
      ],
      "metadata": {
        "id": "M9vvZ2vruD7g"
      }
    },
    {
      "cell_type": "code",
      "source": [
        "import numpy as np"
      ],
      "metadata": {
        "id": "IgshISBSt8l2"
      },
      "execution_count": null,
      "outputs": []
    },
    {
      "cell_type": "code",
      "source": [
        "def vectorize_sequences(sequences, dimension=10000):\n",
        "    results = np.zeros((len(sequences), dimension))\n",
        "    for i, sequence in enumerate(sequences):              # so ones are filled in the position where there is an integer, i.e words positions.\n",
        "        results[i, sequence] = 1.                     # so we have a train and test data of shape 25,000 by 10,000\n",
        "    return results"
      ],
      "metadata": {
        "id": "oxIiJpiwuMk_"
      },
      "execution_count": null,
      "outputs": []
    },
    {
      "cell_type": "code",
      "source": [
        "x_train = vectorize_sequences(train_data)\n",
        "x_test = vectorize_sequences(test_data)"
      ],
      "metadata": {
        "id": "fnCNd28KwKHz"
      },
      "execution_count": null,
      "outputs": []
    },
    {
      "cell_type": "code",
      "source": [
        "# here is what the samples look like now\n",
        "x_train[0]"
      ],
      "metadata": {
        "colab": {
          "base_uri": "https://localhost:8080/"
        },
        "id": "bd0Dst3kwbat",
        "outputId": "f84ffc3e-a39a-4c77-cf1b-7b8fd7a145e0"
      },
      "execution_count": null,
      "outputs": [
        {
          "output_type": "execute_result",
          "data": {
            "text/plain": [
              "array([0., 1., 1., ..., 0., 0., 0.])"
            ]
          },
          "metadata": {},
          "execution_count": 18
        }
      ]
    },
    {
      "cell_type": "code",
      "source": [
        "x_train.shape, x_test.shape"
      ],
      "metadata": {
        "id": "-WMIwkhgwhaX",
        "colab": {
          "base_uri": "https://localhost:8080/"
        },
        "outputId": "b5daa5fd-97b4-4366-c21c-2392cc8b226f"
      },
      "execution_count": null,
      "outputs": [
        {
          "output_type": "execute_result",
          "data": {
            "text/plain": [
              "((25000, 10000), (25000, 10000))"
            ]
          },
          "metadata": {},
          "execution_count": 19
        }
      ]
    },
    {
      "cell_type": "code",
      "source": [
        "x_train.shape"
      ],
      "metadata": {
        "colab": {
          "base_uri": "https://localhost:8080/"
        },
        "id": "MZkWDeXZm4S6",
        "outputId": "eb969231-9a55-4cc8-c25e-f30a54d6d1e1"
      },
      "execution_count": null,
      "outputs": [
        {
          "output_type": "execute_result",
          "data": {
            "text/plain": [
              "(25000, 10000)"
            ]
          },
          "metadata": {},
          "execution_count": 20
        }
      ]
    },
    {
      "cell_type": "code",
      "source": [
        "# you should also vectorize your labels\n",
        "y_train = np.asarray(train_labels).astype(\"float32\")\n",
        "y_test = np.asarray(test_labels).astype(\"float32\")"
      ],
      "metadata": {
        "id": "9VKk99yZoAkH"
      },
      "execution_count": null,
      "outputs": []
    },
    {
      "cell_type": "markdown",
      "source": [
        "# Building our model\n",
        "## model definition:"
      ],
      "metadata": {
        "id": "4kjLBZeWuaA4"
      }
    },
    {
      "cell_type": "code",
      "source": [
        "from tensorflow import keras\n",
        "from tensorflow.keras import layers"
      ],
      "metadata": {
        "id": "U-zjheEQp6xv"
      },
      "execution_count": null,
      "outputs": []
    },
    {
      "cell_type": "code",
      "source": [
        "model = keras.Sequential([\n",
        "    layers.Dense(16, activation=\"relu\"),\n",
        "    layers.Dense(16, activation=\"relu\"),\n",
        "    layers.Dense(1, activation=\"sigmoid\")\n",
        "])"
      ],
      "metadata": {
        "id": "cF_SIYHDusYF"
      },
      "execution_count": null,
      "outputs": []
    },
    {
      "cell_type": "markdown",
      "source": [
        "configuring our model:"
      ],
      "metadata": {
        "id": "eESg-8cdBxxg"
      }
    },
    {
      "cell_type": "code",
      "source": [
        "model.compile(optimizer=\"rmsprop\",\n",
        "              loss=\"binary_crossentropy\",\n",
        "              metrics=[\"accuracy\"])"
      ],
      "metadata": {
        "id": "NicTsZf8vHjS"
      },
      "execution_count": null,
      "outputs": []
    },
    {
      "cell_type": "markdown",
      "source": [
        "###Validation.\n",
        "Setting aside a validation set"
      ],
      "metadata": {
        "id": "mCs8a3SpnLHx"
      }
    },
    {
      "cell_type": "code",
      "source": [
        "x_val = x_train[:10000]\n",
        "partial_x_train = x_train[10000:]\n",
        "y_val = y_train[:10000]\n",
        "partial_y_train = y_train[10000:]"
      ],
      "metadata": {
        "id": "-4ArWq3kBveF"
      },
      "execution_count": null,
      "outputs": []
    },
    {
      "cell_type": "code",
      "source": [
        "x_val.shape, y_val.shape"
      ],
      "metadata": {
        "colab": {
          "base_uri": "https://localhost:8080/"
        },
        "id": "pqrLxfcgn1SW",
        "outputId": "c8d960b8-4f85-4719-f5d7-05fcf37485ed"
      },
      "execution_count": null,
      "outputs": [
        {
          "output_type": "execute_result",
          "data": {
            "text/plain": [
              "((10000, 10000), (10000,))"
            ]
          },
          "metadata": {},
          "execution_count": 26
        }
      ]
    },
    {
      "cell_type": "code",
      "source": [
        "partial_x_train.shape"
      ],
      "metadata": {
        "colab": {
          "base_uri": "https://localhost:8080/"
        },
        "id": "mD-ubJhtn9LE",
        "outputId": "846378ff-0de0-47e1-c3b5-99ee1171ab13"
      },
      "execution_count": null,
      "outputs": [
        {
          "output_type": "execute_result",
          "data": {
            "text/plain": [
              "(15000, 10000)"
            ]
          },
          "metadata": {},
          "execution_count": 27
        }
      ]
    },
    {
      "cell_type": "markdown",
      "source": [
        "Training your model"
      ],
      "metadata": {
        "id": "pDxKJQHqv9fL"
      }
    },
    {
      "cell_type": "code",
      "source": [
        "history = model.fit(partial_x_train,\n",
        "          partial_y_train,\n",
        "          epochs=20,\n",
        "          batch_size=512,\n",
        "          validation_data=(x_val, y_val))"
      ],
      "metadata": {
        "colab": {
          "base_uri": "https://localhost:8080/"
        },
        "id": "-qn8CD9SoJgG",
        "outputId": "f29b4f6b-e3d6-4f97-84d1-6febd0099c55"
      },
      "execution_count": null,
      "outputs": [
        {
          "output_type": "stream",
          "name": "stdout",
          "text": [
            "Epoch 1/20\n",
            "\u001b[1m30/30\u001b[0m \u001b[32m━━━━━━━━━━━━━━━━━━━━\u001b[0m\u001b[37m\u001b[0m \u001b[1m2s\u001b[0m 39ms/step - accuracy: 0.6978 - loss: 0.6255 - val_accuracy: 0.8165 - val_loss: 0.4625\n",
            "Epoch 2/20\n",
            "\u001b[1m30/30\u001b[0m \u001b[32m━━━━━━━━━━━━━━━━━━━━\u001b[0m\u001b[37m\u001b[0m \u001b[1m1s\u001b[0m 23ms/step - accuracy: 0.8762 - loss: 0.3929 - val_accuracy: 0.8709 - val_loss: 0.3465\n",
            "Epoch 3/20\n",
            "\u001b[1m30/30\u001b[0m \u001b[32m━━━━━━━━━━━━━━━━━━━━\u001b[0m\u001b[37m\u001b[0m \u001b[1m1s\u001b[0m 18ms/step - accuracy: 0.9069 - loss: 0.2862 - val_accuracy: 0.8843 - val_loss: 0.2999\n",
            "Epoch 4/20\n",
            "\u001b[1m30/30\u001b[0m \u001b[32m━━━━━━━━━━━━━━━━━━━━\u001b[0m\u001b[37m\u001b[0m \u001b[1m1s\u001b[0m 17ms/step - accuracy: 0.9267 - loss: 0.2250 - val_accuracy: 0.8883 - val_loss: 0.2820\n",
            "Epoch 5/20\n",
            "\u001b[1m30/30\u001b[0m \u001b[32m━━━━━━━━━━━━━━━━━━━━\u001b[0m\u001b[37m\u001b[0m \u001b[1m1s\u001b[0m 28ms/step - accuracy: 0.9434 - loss: 0.1836 - val_accuracy: 0.8861 - val_loss: 0.2809\n",
            "Epoch 6/20\n",
            "\u001b[1m30/30\u001b[0m \u001b[32m━━━━━━━━━━━━━━━━━━━━\u001b[0m\u001b[37m\u001b[0m \u001b[1m1s\u001b[0m 27ms/step - accuracy: 0.9465 - loss: 0.1629 - val_accuracy: 0.8846 - val_loss: 0.2860\n",
            "Epoch 7/20\n",
            "\u001b[1m30/30\u001b[0m \u001b[32m━━━━━━━━━━━━━━━━━━━━\u001b[0m\u001b[37m\u001b[0m \u001b[1m1s\u001b[0m 22ms/step - accuracy: 0.9591 - loss: 0.1332 - val_accuracy: 0.8855 - val_loss: 0.2854\n",
            "Epoch 8/20\n",
            "\u001b[1m30/30\u001b[0m \u001b[32m━━━━━━━━━━━━━━━━━━━━\u001b[0m\u001b[37m\u001b[0m \u001b[1m1s\u001b[0m 18ms/step - accuracy: 0.9658 - loss: 0.1190 - val_accuracy: 0.8784 - val_loss: 0.3125\n",
            "Epoch 9/20\n",
            "\u001b[1m30/30\u001b[0m \u001b[32m━━━━━━━━━━━━━━━━━━━━\u001b[0m\u001b[37m\u001b[0m \u001b[1m1s\u001b[0m 17ms/step - accuracy: 0.9708 - loss: 0.1000 - val_accuracy: 0.8801 - val_loss: 0.3287\n",
            "Epoch 10/20\n",
            "\u001b[1m30/30\u001b[0m \u001b[32m━━━━━━━━━━━━━━━━━━━━\u001b[0m\u001b[37m\u001b[0m \u001b[1m1s\u001b[0m 18ms/step - accuracy: 0.9786 - loss: 0.0848 - val_accuracy: 0.8788 - val_loss: 0.3256\n",
            "Epoch 11/20\n",
            "\u001b[1m30/30\u001b[0m \u001b[32m━━━━━━━━━━━━━━━━━━━━\u001b[0m\u001b[37m\u001b[0m \u001b[1m1s\u001b[0m 17ms/step - accuracy: 0.9824 - loss: 0.0723 - val_accuracy: 0.8822 - val_loss: 0.3391\n",
            "Epoch 12/20\n",
            "\u001b[1m30/30\u001b[0m \u001b[32m━━━━━━━━━━━━━━━━━━━━\u001b[0m\u001b[37m\u001b[0m \u001b[1m1s\u001b[0m 19ms/step - accuracy: 0.9859 - loss: 0.0625 - val_accuracy: 0.8682 - val_loss: 0.3909\n",
            "Epoch 13/20\n",
            "\u001b[1m30/30\u001b[0m \u001b[32m━━━━━━━━━━━━━━━━━━━━\u001b[0m\u001b[37m\u001b[0m \u001b[1m1s\u001b[0m 18ms/step - accuracy: 0.9880 - loss: 0.0536 - val_accuracy: 0.8734 - val_loss: 0.3805\n",
            "Epoch 14/20\n",
            "\u001b[1m30/30\u001b[0m \u001b[32m━━━━━━━━━━━━━━━━━━━━\u001b[0m\u001b[37m\u001b[0m \u001b[1m1s\u001b[0m 17ms/step - accuracy: 0.9904 - loss: 0.0471 - val_accuracy: 0.8773 - val_loss: 0.3965\n",
            "Epoch 15/20\n",
            "\u001b[1m30/30\u001b[0m \u001b[32m━━━━━━━━━━━━━━━━━━━━\u001b[0m\u001b[37m\u001b[0m \u001b[1m1s\u001b[0m 18ms/step - accuracy: 0.9923 - loss: 0.0404 - val_accuracy: 0.8749 - val_loss: 0.4155\n",
            "Epoch 16/20\n",
            "\u001b[1m30/30\u001b[0m \u001b[32m━━━━━━━━━━━━━━━━━━━━\u001b[0m\u001b[37m\u001b[0m \u001b[1m1s\u001b[0m 17ms/step - accuracy: 0.9950 - loss: 0.0337 - val_accuracy: 0.8725 - val_loss: 0.4387\n",
            "Epoch 17/20\n",
            "\u001b[1m30/30\u001b[0m \u001b[32m━━━━━━━━━━━━━━━━━━━━\u001b[0m\u001b[37m\u001b[0m \u001b[1m1s\u001b[0m 22ms/step - accuracy: 0.9969 - loss: 0.0263 - val_accuracy: 0.8743 - val_loss: 0.4592\n",
            "Epoch 18/20\n",
            "\u001b[1m30/30\u001b[0m \u001b[32m━━━━━━━━━━━━━━━━━━━━\u001b[0m\u001b[37m\u001b[0m \u001b[1m1s\u001b[0m 17ms/step - accuracy: 0.9975 - loss: 0.0229 - val_accuracy: 0.8696 - val_loss: 0.4854\n",
            "Epoch 19/20\n",
            "\u001b[1m30/30\u001b[0m \u001b[32m━━━━━━━━━━━━━━━━━━━━\u001b[0m\u001b[37m\u001b[0m \u001b[1m1s\u001b[0m 18ms/step - accuracy: 0.9987 - loss: 0.0186 - val_accuracy: 0.8737 - val_loss: 0.4952\n",
            "Epoch 20/20\n",
            "\u001b[1m30/30\u001b[0m \u001b[32m━━━━━━━━━━━━━━━━━━━━\u001b[0m\u001b[37m\u001b[0m \u001b[1m1s\u001b[0m 18ms/step - accuracy: 0.9991 - loss: 0.0148 - val_accuracy: 0.8729 - val_loss: 0.5190\n"
          ]
        }
      ]
    },
    {
      "cell_type": "markdown",
      "source": [
        "Checking the history object:"
      ],
      "metadata": {
        "id": "jtKrbzQg3vRd"
      }
    },
    {
      "cell_type": "code",
      "source": [
        "history_dict = history.history\n",
        "history_dict.keys()"
      ],
      "metadata": {
        "colab": {
          "base_uri": "https://localhost:8080/"
        },
        "id": "Cj25LUvXzj_9",
        "outputId": "5c37d34a-f460-4f5e-d586-45c6ccecffc8"
      },
      "execution_count": null,
      "outputs": [
        {
          "output_type": "execute_result",
          "data": {
            "text/plain": [
              "dict_keys(['accuracy', 'loss', 'val_accuracy', 'val_loss'])"
            ]
          },
          "metadata": {},
          "execution_count": 29
        }
      ]
    },
    {
      "cell_type": "markdown",
      "source": [
        "Lets plot training and validation loss as well as training and validation accuracy:"
      ],
      "metadata": {
        "id": "nL3KYXKJ39g_"
      }
    },
    {
      "cell_type": "code",
      "source": [
        "import matplotlib.pyplot as plt"
      ],
      "metadata": {
        "id": "nd_cJtEr37dh"
      },
      "execution_count": null,
      "outputs": []
    },
    {
      "cell_type": "code",
      "source": [
        "loss_values = history_dict['loss']\n",
        "val_loss_values = history_dict['val_loss']\n",
        "epochs = range(1, len(loss_values) + 1)\n",
        "plt.plot(epochs, loss_values, \"bo\", label=\"Trainng loss\")\n",
        "plt.plot(epochs, val_loss_values, \"b\", label=\"validation loss\")\n",
        "plt.title(\"Training and Validation Loss\")\n",
        "plt.xlabel('Epochs') ; plt.ylabel('Loss')\n",
        "plt.legend()\n",
        "plt.show()"
      ],
      "metadata": {
        "colab": {
          "base_uri": "https://localhost:8080/",
          "height": 472
        },
        "id": "OZxJLDd24LH9",
        "outputId": "c66cef68-5e16-4d9f-e024-4f8d345df4db"
      },
      "execution_count": null,
      "outputs": [
        {
          "output_type": "display_data",
          "data": {
            "text/plain": [
              "<Figure size 640x480 with 1 Axes>"
            ],
            "image/png": "[encoded data removed]"
          },
          "metadata": {}
        }
      ]
    },
    {
      "cell_type": "code",
      "source": [
        "# Plotting training vs validation loss\n",
        "plt.clf()\n",
        "acc = history_dict['accuracy']\n",
        "val_acc = history_dict['val_accuracy']\n",
        "plt.plot(epochs, acc, \"bo\", label='Training acc')\n",
        "plt.plot(epochs, val_acc, \"b\", label='validation acc')\n",
        "plt.title('Training and validaton accuracy')\n",
        "plt.xlabel(\"Epochs\") ; plt.ylabel(\"Accuracy\")\n",
        "plt.legend()\n",
        "plt.show()"
      ],
      "metadata": {
        "colab": {
          "base_uri": "https://localhost:8080/",
          "height": 472
        },
        "id": "lTgtQ_tK5Sp-",
        "outputId": "27a6d450-67d4-46fc-b1fc-cba6736d262e"
      },
      "execution_count": null,
      "outputs": [
        {
          "output_type": "display_data",
          "data": {
            "text/plain": [
              "<Figure size 640x480 with 1 Axes>"
            ],
            "image/png": "[encoded data removed]"
          },
          "metadata": {}
        }
      ]
    },
    {
      "cell_type": "markdown",
      "source": [
        "After the fourth epoch, the model started overfitting. i.e., only the training data is improving while the validation data has reached it peak around the fourth epoch.\n",
        "## Lets retrain the model from scratch again"
      ],
      "metadata": {
        "id": "aPLrLzP_He5I"
      }
    },
    {
      "cell_type": "code",
      "source": [
        "model = keras.Sequential([\n",
        "    layers.Dense(16, activation=\"relu\"),\n",
        "    layers.Dense(16, activation=\"relu\"),\n",
        "    layers.Dense(1, activation=\"sigmoid\")\n",
        "])"
      ],
      "metadata": {
        "id": "vJ2TRUrRCNE5"
      },
      "execution_count": null,
      "outputs": []
    },
    {
      "cell_type": "code",
      "source": [
        "model.compile(optimizer='rmsprop',\n",
        "              loss = 'binary_crossentropy',\n",
        "              metrics = ['accuracy'])"
      ],
      "metadata": {
        "id": "2pZOAl1KIKnO"
      },
      "execution_count": null,
      "outputs": []
    },
    {
      "cell_type": "code",
      "source": [
        "model.fit(x_train, y_train, epochs=4,\n",
        "          batch_size = 512)"
      ],
      "metadata": {
        "colab": {
          "base_uri": "https://localhost:8080/"
        },
        "id": "V64mdQ4bJmh8",
        "outputId": "00a308c0-c274-436c-ff67-8e4cfb77c29e"
      },
      "execution_count": null,
      "outputs": [
        {
          "output_type": "stream",
          "name": "stdout",
          "text": [
            "Epoch 1/4\n",
            "\u001b[1m49/49\u001b[0m \u001b[32m━━━━━━━━━━━━━━━━━━━━\u001b[0m\u001b[37m\u001b[0m \u001b[1m1s\u001b[0m 13ms/step - accuracy: 0.7390 - loss: 0.5453\n",
            "Epoch 2/4\n",
            "\u001b[1m49/49\u001b[0m \u001b[32m━━━━━━━━━━━━━━━━━━━━\u001b[0m\u001b[37m\u001b[0m \u001b[1m1s\u001b[0m 13ms/step - accuracy: 0.9046 - loss: 0.2737\n",
            "Epoch 3/4\n",
            "\u001b[1m49/49\u001b[0m \u001b[32m━━━━━━━━━━━━━━━━━━━━\u001b[0m\u001b[37m\u001b[0m \u001b[1m1s\u001b[0m 12ms/step - accuracy: 0.9242 - loss: 0.2112\n",
            "Epoch 4/4\n",
            "\u001b[1m49/49\u001b[0m \u001b[32m━━━━━━━━━━━━━━━━━━━━\u001b[0m\u001b[37m\u001b[0m \u001b[1m1s\u001b[0m 12ms/step - accuracy: 0.9405 - loss: 0.1740\n"
          ]
        },
        {
          "output_type": "execute_result",
          "data": {
            "text/plain": [
              "<keras.src.callbacks.history.History at 0x7bb75ee2d2d0>"
            ]
          },
          "metadata": {},
          "execution_count": 35
        }
      ]
    },
    {
      "cell_type": "code",
      "source": [
        "results = model.evaluate(x_test, y_test)"
      ],
      "metadata": {
        "colab": {
          "base_uri": "https://localhost:8080/"
        },
        "id": "cilEDyegJxyk",
        "outputId": "8631e513-7502-4f68-c647-1f3a8d7291e9"
      },
      "execution_count": null,
      "outputs": [
        {
          "output_type": "stream",
          "name": "stdout",
          "text": [
            "\u001b[1m782/782\u001b[0m \u001b[32m━━━━━━━━━━━━━━━━━━━━\u001b[0m\u001b[37m\u001b[0m \u001b[1m1s\u001b[0m 1ms/step - accuracy: 0.8832 - loss: 0.2900\n"
          ]
        }
      ]
    },
    {
      "cell_type": "code",
      "source": [
        "results"
      ],
      "metadata": {
        "colab": {
          "base_uri": "https://localhost:8080/"
        },
        "id": "deR7-AW6KpsW",
        "outputId": "bc1967fa-cfb2-47c4-f835-d42e0d7cbc2c"
      },
      "execution_count": null,
      "outputs": [
        {
          "output_type": "execute_result",
          "data": {
            "text/plain": [
              "[0.28915935754776, 0.8851199746131897]"
            ]
          },
          "metadata": {},
          "execution_count": 37
        }
      ]
    },
    {
      "cell_type": "markdown",
      "source": [
        "The first number: 0.29, is the test loss, and the second number: 0.88, is the test accuracy."
      ],
      "metadata": {
        "id": "y4xIKzulKxd8"
      }
    },
    {
      "cell_type": "markdown",
      "source": [
        "Using a Train model to generate prediction on New data:"
      ],
      "metadata": {
        "id": "uKEseyRVC5m6"
      }
    },
    {
      "cell_type": "code",
      "source": [
        "model.predict(x_test)"
      ],
      "metadata": {
        "id": "mTzZGYoyJ8UG",
        "colab": {
          "base_uri": "https://localhost:8080/"
        },
        "outputId": "7d08a4a8-e3c4-4f42-c4e3-0970b8c3bdf1"
      },
      "execution_count": null,
      "outputs": [
        {
          "output_type": "stream",
          "name": "stdout",
          "text": [
            "\u001b[1m782/782\u001b[0m \u001b[32m━━━━━━━━━━━━━━━━━━━━\u001b[0m\u001b[37m\u001b[0m \u001b[1m1s\u001b[0m 1ms/step\n"
          ]
        },
        {
          "output_type": "execute_result",
          "data": {
            "text/plain": [
              "array([[0.20691086],\n",
              "       [0.9997385 ],\n",
              "       [0.69549054],\n",
              "       ...,\n",
              "       [0.09375754],\n",
              "       [0.06534365],\n",
              "       [0.5316998 ]], dtype=float32)"
            ]
          },
          "metadata": {},
          "execution_count": 38
        }
      ]
    },
    {
      "cell_type": "code",
      "source": [],
      "metadata": {
        "id": "7mhR7RNlMBs4"
      },
      "execution_count": null,
      "outputs": []
    }
  ]
}